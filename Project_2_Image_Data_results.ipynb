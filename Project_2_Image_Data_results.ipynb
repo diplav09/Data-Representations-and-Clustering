{
  "cells": [
    {
      "cell_type": "code",
      "execution_count": 1,
      "metadata": {
        "colab": {
          "base_uri": "https://localhost:8080/"
        },
        "id": "EHaqsXPZ7sFa",
        "outputId": "aab5eab6-4e0e-4faa-8642-279570813ee8"
      },
      "outputs": [
        {
          "output_type": "stream",
          "name": "stdout",
          "text": [
            "Looking in indexes: https://pypi.org/simple, https://us-python.pkg.dev/colab-wheels/public/simple/\n",
            "Collecting umap-learn\n",
            "  Downloading umap-learn-0.5.3.tar.gz (88 kB)\n",
            "\u001b[2K     \u001b[90m━━━━━━━━━━━━━━━━━━━━━━━━━━━━━━━━━━━━━━━━\u001b[0m \u001b[32m88.2/88.2 KB\u001b[0m \u001b[31m2.7 MB/s\u001b[0m eta \u001b[36m0:00:00\u001b[0m\n",
            "\u001b[?25h  Preparing metadata (setup.py) ... \u001b[?25l\u001b[?25hdone\n",
            "Requirement already satisfied: numpy>=1.17 in /usr/local/lib/python3.8/dist-packages (from umap-learn) (1.21.6)\n",
            "Requirement already satisfied: scikit-learn>=0.22 in /usr/local/lib/python3.8/dist-packages (from umap-learn) (1.0.2)\n",
            "Requirement already satisfied: scipy>=1.0 in /usr/local/lib/python3.8/dist-packages (from umap-learn) (1.7.3)\n",
            "Requirement already satisfied: numba>=0.49 in /usr/local/lib/python3.8/dist-packages (from umap-learn) (0.56.4)\n",
            "Collecting pynndescent>=0.5\n",
            "  Downloading pynndescent-0.5.8.tar.gz (1.1 MB)\n",
            "\u001b[2K     \u001b[90m━━━━━━━━━━━━━━━━━━━━━━━━━━━━━━━━━━━━━━━━\u001b[0m \u001b[32m1.1/1.1 MB\u001b[0m \u001b[31m25.6 MB/s\u001b[0m eta \u001b[36m0:00:00\u001b[0m\n",
            "\u001b[?25h  Preparing metadata (setup.py) ... \u001b[?25l\u001b[?25hdone\n",
            "Requirement already satisfied: tqdm in /usr/local/lib/python3.8/dist-packages (from umap-learn) (4.64.1)\n",
            "Requirement already satisfied: llvmlite<0.40,>=0.39.0dev0 in /usr/local/lib/python3.8/dist-packages (from numba>=0.49->umap-learn) (0.39.1)\n",
            "Requirement already satisfied: setuptools in /usr/local/lib/python3.8/dist-packages (from numba>=0.49->umap-learn) (57.4.0)\n",
            "Requirement already satisfied: importlib-metadata in /usr/local/lib/python3.8/dist-packages (from numba>=0.49->umap-learn) (6.0.0)\n",
            "Requirement already satisfied: joblib>=0.11 in /usr/local/lib/python3.8/dist-packages (from pynndescent>=0.5->umap-learn) (1.2.0)\n",
            "Requirement already satisfied: threadpoolctl>=2.0.0 in /usr/local/lib/python3.8/dist-packages (from scikit-learn>=0.22->umap-learn) (3.1.0)\n",
            "Requirement already satisfied: zipp>=0.5 in /usr/local/lib/python3.8/dist-packages (from importlib-metadata->numba>=0.49->umap-learn) (3.12.1)\n",
            "Building wheels for collected packages: umap-learn, pynndescent\n",
            "  Building wheel for umap-learn (setup.py) ... \u001b[?25l\u001b[?25hdone\n",
            "  Created wheel for umap-learn: filename=umap_learn-0.5.3-py3-none-any.whl size=82829 sha256=5ddde103cbc33c034de8b49ae3359d3f3306d9bc18cba8fb83819ffb780eecf1\n",
            "  Stored in directory: /root/.cache/pip/wheels/a9/3a/67/06a8950e053725912e6a8c42c4a3a241410f6487b8402542ea\n",
            "  Building wheel for pynndescent (setup.py) ... \u001b[?25l\u001b[?25hdone\n",
            "  Created wheel for pynndescent: filename=pynndescent-0.5.8-py3-none-any.whl size=55513 sha256=48780add48619472cbac80c4087c44370efe22a462cbf06c9eb50a8d2e6d6a57\n",
            "  Stored in directory: /root/.cache/pip/wheels/1c/63/3a/29954bca1a27ba100ed8c27973a78cb71b43dc67aed62e80c3\n",
            "Successfully built umap-learn pynndescent\n",
            "Installing collected packages: pynndescent, umap-learn\n",
            "Successfully installed pynndescent-0.5.8 umap-learn-0.5.3\n",
            "Looking in indexes: https://pypi.org/simple, https://us-python.pkg.dev/colab-wheels/public/simple/\n",
            "Collecting hdbscan\n",
            "  Downloading hdbscan-0.8.29.tar.gz (5.2 MB)\n",
            "\u001b[2K     \u001b[90m━━━━━━━━━━━━━━━━━━━━━━━━━━━━━━━━━━━━━━━━\u001b[0m \u001b[32m5.2/5.2 MB\u001b[0m \u001b[31m26.1 MB/s\u001b[0m eta \u001b[36m0:00:00\u001b[0m\n",
            "\u001b[?25h  Installing build dependencies ... \u001b[?25l\u001b[?25hdone\n",
            "  Getting requirements to build wheel ... \u001b[?25l\u001b[?25hdone\n",
            "  Preparing metadata (pyproject.toml) ... \u001b[?25l\u001b[?25hdone\n",
            "Requirement already satisfied: scikit-learn>=0.20 in /usr/local/lib/python3.8/dist-packages (from hdbscan) (1.0.2)\n",
            "Requirement already satisfied: joblib>=1.0 in /usr/local/lib/python3.8/dist-packages (from hdbscan) (1.2.0)\n",
            "Requirement already satisfied: numpy>=1.20 in /usr/local/lib/python3.8/dist-packages (from hdbscan) (1.21.6)\n",
            "Requirement already satisfied: scipy>=1.0 in /usr/local/lib/python3.8/dist-packages (from hdbscan) (1.7.3)\n",
            "Requirement already satisfied: cython>=0.27 in /usr/local/lib/python3.8/dist-packages (from hdbscan) (0.29.33)\n",
            "Requirement already satisfied: threadpoolctl>=2.0.0 in /usr/local/lib/python3.8/dist-packages (from scikit-learn>=0.20->hdbscan) (3.1.0)\n",
            "Building wheels for collected packages: hdbscan\n",
            "  Building wheel for hdbscan (pyproject.toml) ... \u001b[?25l\u001b[?25hdone\n",
            "  Created wheel for hdbscan: filename=hdbscan-0.8.29-cp38-cp38-linux_x86_64.whl size=3773989 sha256=b6f4482b14d54e3a5f58d1a19e1ebfde283f11ec595695a2bc091ba05782a7b5\n",
            "  Stored in directory: /root/.cache/pip/wheels/76/06/48/527e038689c581cc9e519c73840efdc7473805149e55bd7ffd\n",
            "Successfully built hdbscan\n",
            "Installing collected packages: hdbscan\n",
            "Successfully installed hdbscan-0.8.29\n"
          ]
        }
      ],
      "source": [
        "!pip install umap-learn\n",
        "!pip install hdbscan"
      ]
    },
    {
      "cell_type": "code",
      "execution_count": 2,
      "metadata": {
        "id": "AZ_p4IHyshVj"
      },
      "outputs": [],
      "source": [
        "import torch\n",
        "import torch.nn as nn\n",
        "from torchvision import transforms, datasets\n",
        "from torch.utils.data import DataLoader, TensorDataset\n",
        "import numpy as np\n",
        "import matplotlib.pyplot as plt\n",
        "import pandas as pd\n",
        "\n",
        "from tqdm import tqdm\n",
        "import requests\n",
        "import os\n",
        "import tarfile\n",
        "\n",
        "from sklearn.preprocessing import StandardScaler\n",
        "from sklearn.decomposition import PCA\n",
        "from sklearn.manifold import TSNE\n",
        "from sklearn.cluster import KMeans, AgglomerativeClustering\n",
        "from sklearn.model_selection import GridSearchCV\n",
        "from sklearn.metrics import confusion_matrix, adjusted_rand_score, rand_score, adjusted_mutual_info_score\n",
        "from sklearn.pipeline import Pipeline\n",
        "from sklearn.base import TransformerMixin\n",
        "from sklearn.decomposition import TruncatedSVD\n",
        "\n",
        "import umap\n",
        "import hdbscan"
      ]
    },
    {
      "cell_type": "markdown",
      "metadata": {
        "id": "GxXLuyBSW0C4"
      },
      "source": [
        "# Flowers Dataset and VGG Features"
      ]
    },
    {
      "cell_type": "code",
      "execution_count": 3,
      "metadata": {
        "id": "tAE8QD1BQ3O-",
        "colab": {
          "base_uri": "https://localhost:8080/",
          "height": 194,
          "referenced_widgets": [
            "3579f81984604509a6c94906321f2a10",
            "4cebfc7b0b1d4066b61a91f84a95de3e",
            "38a1f636cba8405f9da3887b0b18c189",
            "af6cf13f1dec4edb93fedb0066451fb8",
            "2ad74e5ab37a410fbf1893f308900aed",
            "1263cb30df2d48a6ae8225c1881b8601",
            "d739ea3ba11f470c916d2286a5b58baa",
            "91b51aba0266431eadd57e60c3b5f51b",
            "fe0f2b88435949ce8646d46496d227f3",
            "3292dc09d59649ba8e1c497847d0940c",
            "3a5c032baf4147b9a694c2781fe0c6f5"
          ]
        },
        "outputId": "0d55dc03-db92-428c-f26f-bf3d4d7679d7"
      },
      "outputs": [
        {
          "output_type": "stream",
          "name": "stderr",
          "text": [
            "Downloading: \"https://github.com/pytorch/vision/zipball/v0.10.0\" to /root/.cache/torch/hub/v0.10.0.zip\n",
            "/usr/local/lib/python3.8/dist-packages/torchvision/models/_utils.py:208: UserWarning: The parameter 'pretrained' is deprecated since 0.13 and may be removed in the future, please use 'weights' instead.\n",
            "  warnings.warn(\n",
            "/usr/local/lib/python3.8/dist-packages/torchvision/models/_utils.py:223: UserWarning: Arguments other than a weight enum or `None` for 'weights' are deprecated since 0.13 and may be removed in the future. The current behavior is equivalent to passing `weights=VGG16_Weights.IMAGENET1K_V1`. You can also use `weights=VGG16_Weights.DEFAULT` to get the most up-to-date weights.\n",
            "  warnings.warn(msg)\n",
            "Downloading: \"https://download.pytorch.org/models/vgg16-397923af.pth\" to /root/.cache/torch/hub/checkpoints/vgg16-397923af.pth\n"
          ]
        },
        {
          "output_type": "display_data",
          "data": {
            "text/plain": [
              "  0%|          | 0.00/528M [00:00<?, ?B/s]"
            ],
            "application/vnd.jupyter.widget-view+json": {
              "version_major": 2,
              "version_minor": 0,
              "model_id": "3579f81984604509a6c94906321f2a10"
            }
          },
          "metadata": {}
        },
        {
          "output_type": "stream",
          "name": "stderr",
          "text": [
            "100%|██████████| 58/58 [00:42<00:00,  1.36it/s]\n"
          ]
        }
      ],
      "source": [
        "filename = './flowers_features_and_labels.npz'\n",
        "\n",
        "if os.path.exists(filename):\n",
        "    file = np.load(filename)\n",
        "    f_all, y_all = file['f_all'], file['y_all']\n",
        "\n",
        "else:\n",
        "    if not os.path.exists('./flower_photos'):\n",
        "        # download the flowers dataset and extract its images\n",
        "        url = 'http://download.tensorflow.org/example_images/flower_photos.tgz'\n",
        "        with open('./flower_photos.tgz', 'wb') as file:\n",
        "            file.write(requests.get(url).content)\n",
        "        with tarfile.open('./flower_photos.tgz') as file:\n",
        "            file.extractall('./')\n",
        "        os.remove('./flower_photos.tgz')\n",
        "\n",
        "    class FeatureExtractor(nn.Module):\n",
        "        def __init__(self):\n",
        "            super().__init__()\n",
        "\n",
        "            vgg = torch.hub.load('pytorch/vision:v0.10.0', 'vgg16', pretrained=True)\n",
        "\n",
        "            # Extract VGG-16 Feature Layers\n",
        "            self.features = list(vgg.features)\n",
        "            self.features = nn.Sequential(*self.features)\n",
        "            # Extract VGG-16 Average Pooling Layer\n",
        "            self.pooling = vgg.avgpool\n",
        "            # Convert the image into one-dimensional vector\n",
        "            self.flatten = nn.Flatten()\n",
        "            # Extract the first part of fully-connected layer from VGG16\n",
        "            self.fc = vgg.classifier[0]\n",
        "\n",
        "        def forward(self, x):\n",
        "            # It will take the input 'x' until it returns the feature vector called 'out'\n",
        "            out = self.features(x)\n",
        "            out = self.pooling(out)\n",
        "            out = self.flatten(out)\n",
        "            out = self.fc(out) \n",
        "            return out \n",
        "\n",
        "    # Initialize the model\n",
        "    assert torch.cuda.is_available()\n",
        "    feature_extractor = FeatureExtractor().cuda().eval()\n",
        "\n",
        "    dataset = datasets.ImageFolder(root='./flower_photos',\n",
        "                                   transform=transforms.Compose([transforms.Resize(224),\n",
        "                                                                 transforms.CenterCrop(224),\n",
        "                                                                 transforms.ToTensor(),\n",
        "                                                                 transforms.Normalize(mean=[0.485, 0.456, 0.406], std=[0.229, 0.224, 0.225])]))\n",
        "    dataloader = DataLoader(dataset, batch_size=64, shuffle=True)\n",
        "\n",
        "    # Extract features and store them on disk\n",
        "    f_all, y_all = np.zeros((0, 4096)), np.zeros((0,))\n",
        "    for x, y in tqdm(dataloader):\n",
        "        with torch.no_grad():\n",
        "            f_all = np.vstack([f_all, feature_extractor(x.cuda()).cpu()])\n",
        "            y_all = np.concatenate([y_all, y])\n",
        "    np.savez(filename, f_all=f_all, y_all=y_all)"
      ]
    },
    {
      "cell_type": "code",
      "execution_count": 4,
      "metadata": {
        "colab": {
          "base_uri": "https://localhost:8080/"
        },
        "id": "PoKiVC6bT0I3",
        "outputId": "cfc510e1-153c-4b8b-e3df-12828ad19def"
      },
      "outputs": [
        {
          "output_type": "stream",
          "name": "stdout",
          "text": [
            "(3670, 4096) (3670,)\n"
          ]
        }
      ],
      "source": [
        "print(f_all.shape, y_all.shape)\n",
        "num_features = f_all.shape[1]"
      ]
    },
    {
      "cell_type": "code",
      "execution_count": 5,
      "metadata": {
        "colab": {
          "base_uri": "https://localhost:8080/"
        },
        "id": "Z1KlSym-eQBU",
        "outputId": "a02c7a1b-8025-44bc-c77a-c5a234523752"
      },
      "outputs": [
        {
          "output_type": "stream",
          "name": "stdout",
          "text": [
            "torch.Size([3, 224, 224])\n",
            "0\n",
            "torch.Size([3, 224, 224])\n",
            "0\n"
          ]
        }
      ],
      "source": [
        "#confirming original image size\n",
        "dataset = datasets.ImageFolder(root='./flower_photos',\n",
        "                                   transform=transforms.Compose([transforms.Resize(224),\n",
        "                                                                 transforms.CenterCrop(224),\n",
        "                                                                 transforms.ToTensor(),\n",
        "                                                                 transforms.Normalize(mean=[0.485, 0.456, 0.406], std=[0.229, 0.224, 0.225])]))\n",
        "for i, (x,y) in enumerate(dataset):\n",
        "    if i < 2:\n",
        "      print(x.shape)\n",
        "      print(y)\n",
        "    else:\n",
        "      break"
      ]
    },
    {
      "cell_type": "code",
      "execution_count": 6,
      "metadata": {
        "colab": {
          "base_uri": "https://localhost:8080/"
        },
        "id": "ybKb2BWjj4pv",
        "outputId": "bf53d1e4-51a9-4f9d-ad41-26e8caba999e"
      },
      "outputs": [
        {
          "output_type": "stream",
          "name": "stdout",
          "text": [
            "3670.0\n",
            "[-2.14356947 -0.83152497  0.14578724 ... -2.21262312 -3.53307223\n",
            " -0.96075946]\n"
          ]
        }
      ],
      "source": [
        "#observe this is not a sparse matrix\n",
        "print(np.count_nonzero(f_all)/4096) #this matches original sample size\n",
        "print(f_all[99]) #values shown are not close to zero"
      ]
    },
    {
      "cell_type": "code",
      "execution_count": 7,
      "metadata": {
        "colab": {
          "base_uri": "https://localhost:8080/"
        },
        "id": "yxqNYIDzm_61",
        "outputId": "46e9e58e-d6e1-4460-b13a-39fd29286455"
      },
      "outputs": [
        {
          "output_type": "stream",
          "name": "stderr",
          "text": [
            "/usr/local/lib/python3.8/dist-packages/sklearn/manifold/_t_sne.py:780: FutureWarning: The default initialization in TSNE will change from 'random' to 'pca' in 1.2.\n",
            "  warnings.warn(\n",
            "/usr/local/lib/python3.8/dist-packages/sklearn/manifold/_t_sne.py:790: FutureWarning: The default learning rate in TSNE will change from 200.0 to 'auto' in 1.2.\n",
            "  warnings.warn(\n"
          ]
        }
      ],
      "source": [
        "#t-SNE\n",
        "f_tsne = TSNE(n_components=2).fit_transform(f_all)"
      ]
    },
    {
      "cell_type": "code",
      "execution_count": 8,
      "metadata": {
        "colab": {
          "base_uri": "https://localhost:8080/",
          "height": 299
        },
        "id": "EC-w8i9voTlJ",
        "outputId": "358ed6b7-14cc-4230-fb48-2a176e68c893"
      },
      "outputs": [
        {
          "output_type": "execute_result",
          "data": {
            "text/plain": [
              "Text(0.5, 1.0, 't-SNE Plot')"
            ]
          },
          "metadata": {},
          "execution_count": 8
        },
        {
          "output_type": "display_data",
          "data": {
            "text/plain": [
              "<Figure size 432x288 with 1 Axes>"
            ],
            "image/png": "[encoded data removed]"
          },
          "metadata": {
            "needs_background": "light"
          }
        }
      ],
      "source": [
        "plt.scatter(*f_tsne.T, c=y_all)\n",
        "plt.title(\"t-SNE Plot\")"
      ]
    },
    {
      "cell_type": "code",
      "execution_count": 9,
      "metadata": {
        "colab": {
          "base_uri": "https://localhost:8080/",
          "height": 283
        },
        "id": "ehvIPDEhkr1Y",
        "outputId": "cf439642-7ee1-4e8e-86e3-fa6495b27057"
      },
      "outputs": [
        {
          "output_type": "execute_result",
          "data": {
            "text/plain": [
              "<matplotlib.collections.PathCollection at 0x7f47562a5a00>"
            ]
          },
          "metadata": {},
          "execution_count": 9
        },
        {
          "output_type": "display_data",
          "data": {
            "text/plain": [
              "<Figure size 432x288 with 1 Axes>"
            ],
            "image/png": "[encoded data removed]"
          },
          "metadata": {
            "needs_background": "light"
          }
        }
      ],
      "source": [
        "f_pca = PCA(n_components=2).fit_transform(f_all)\n",
        "plt.scatter(*f_pca.T, c=y_all)"
      ]
    },
    {
      "cell_type": "markdown",
      "metadata": {
        "id": "_dtP342NqUl7"
      },
      "source": []
    },
    {
      "cell_type": "markdown",
      "metadata": {
        "id": "lzDNsDJ-W0C7"
      },
      "source": [
        "# MLP Classifier"
      ]
    },
    {
      "cell_type": "code",
      "execution_count": 10,
      "metadata": {
        "id": "6ItfNpBiW0C8"
      },
      "outputs": [],
      "source": [
        "class MLP(torch.nn.Module):\n",
        "    def __init__(self, num_features):\n",
        "        super().__init__()\n",
        "        self.model = nn.Sequential(\n",
        "            nn.Linear(num_features, 1280),\n",
        "            nn.ReLU(True),\n",
        "            nn.Linear(1280, 640),\n",
        "            nn.ReLU(True), \n",
        "            nn.Linear(640, 5),\n",
        "            nn.LogSoftmax(dim=1)\n",
        "        )\n",
        "        self.cuda()\n",
        "    \n",
        "    \n",
        "    def forward(self, X):\n",
        "        return self.model(X)\n",
        "    \n",
        "    def train(self, X, y):\n",
        "        X = torch.tensor(X, dtype=torch.float32, device='cuda')\n",
        "        y = torch.tensor(y, dtype=torch.int64, device='cuda')\n",
        "\n",
        "        self.model.train()\n",
        "        \n",
        "        criterion = nn.NLLLoss()\n",
        "        optimizer = torch.optim.Adam(self.parameters(), lr=1e-3, weight_decay=1e-5)\n",
        "\n",
        "        dataset = TensorDataset(X, y)\n",
        "        dataloader = DataLoader(dataset, batch_size=128, shuffle=True)\n",
        "\n",
        "        for epoch in tqdm(range(100)):\n",
        "            for (X_, y_) in dataloader:\n",
        "                ##################################\n",
        "                # you should implement this part #\n",
        "                ##################################\n",
        "                raise NotImplementedError\n",
        "        return self\n",
        "    \n",
        "    def eval(self, X_test, y_test):\n",
        "        ##################################\n",
        "        # you should implement this part #\n",
        "        ##################################\n",
        "        raise NotImplementedError"
      ]
    },
    {
      "cell_type": "markdown",
      "metadata": {
        "id": "b9ScdApvW0C8"
      },
      "source": [
        "# Autoencoder"
      ]
    },
    {
      "cell_type": "code",
      "execution_count": 11,
      "metadata": {
        "id": "Kd-bryaBVBtP"
      },
      "outputs": [],
      "source": [
        "class Autoencoder(torch.nn.Module, TransformerMixin):\n",
        "    def __init__(self, n_components):\n",
        "        super().__init__()\n",
        "        self.n_components = n_components\n",
        "        self.n_features = None  # to be determined with data\n",
        "        self.encoder = None\n",
        "        self.decoder = None\n",
        "        \n",
        "    def _create_encoder(self):\n",
        "        return nn.Sequential(\n",
        "            nn.Linear(4096, 1280),\n",
        "            nn.ReLU(True),\n",
        "            nn.Linear(1280, 640),\n",
        "            nn.ReLU(True), nn.Linear(640, 120), nn.ReLU(True), nn.Linear(120, self.n_components))\n",
        "    \n",
        "    def _create_decoder(self):\n",
        "        return nn.Sequential(\n",
        "            nn.Linear(self.n_components, 120),\n",
        "            nn.ReLU(True),\n",
        "            nn.Linear(120, 640),\n",
        "            nn.ReLU(True),\n",
        "            nn.Linear(640, 1280),\n",
        "            nn.ReLU(True), nn.Linear(1280, 4096))\n",
        "    \n",
        "    def forward(self, X):\n",
        "        encoded = self.encoder(X)\n",
        "        decoded = self.decoder(encoded)\n",
        "        return decoded\n",
        "    \n",
        "    def fit(self, X):\n",
        "        X = torch.tensor(X, dtype=torch.float32, device='cuda')\n",
        "        self.n_features = X.shape[1]\n",
        "        self.encoder = self._create_encoder()\n",
        "        self.decoder = self._create_decoder()\n",
        "        self.cuda()\n",
        "        self.train()\n",
        "        \n",
        "        criterion = nn.MSELoss()\n",
        "        optimizer = torch.optim.Adam(self.parameters(), lr=1e-3, weight_decay=1e-5)\n",
        "\n",
        "        dataset = TensorDataset(X)\n",
        "        dataloader = DataLoader(dataset, batch_size=128, shuffle=True)\n",
        "\n",
        "        for epoch in tqdm(range(100)):\n",
        "            for (X_,) in dataloader:\n",
        "                X_ = X_.cuda()\n",
        "                # ===================forward=====================\n",
        "                output = self(X_)\n",
        "                loss = criterion(output, X_)\n",
        "                # ===================backward====================\n",
        "                optimizer.zero_grad()\n",
        "                loss.backward()\n",
        "                optimizer.step()\n",
        "\n",
        "        return self     \n",
        "        \n",
        "    def transform(self, X):\n",
        "        X = torch.tensor(X, dtype=torch.float32, device='cuda')\n",
        "        self.eval()\n",
        "        with torch.no_grad():\n",
        "            return self.encoder(X).cpu().numpy()"
      ]
    },
    {
      "cell_type": "code",
      "execution_count": 12,
      "metadata": {
        "colab": {
          "base_uri": "https://localhost:8080/",
          "height": 301
        },
        "id": "4Bo1ZqJFW0C9",
        "outputId": "ee1f679a-b1ed-4764-d2b3-7072d54544b3"
      },
      "outputs": [
        {
          "output_type": "stream",
          "name": "stderr",
          "text": [
            "100%|██████████| 100/100 [00:23<00:00,  4.29it/s]\n"
          ]
        },
        {
          "output_type": "execute_result",
          "data": {
            "text/plain": [
              "<matplotlib.collections.PathCollection at 0x7f47561d58e0>"
            ]
          },
          "metadata": {},
          "execution_count": 12
        },
        {
          "output_type": "display_data",
          "data": {
            "text/plain": [
              "<Figure size 432x288 with 1 Axes>"
            ],
            "image/png": "[encoded data removed]"
          },
          "metadata": {
            "needs_background": "light"
          }
        }
      ],
      "source": [
        "X_em =Autoencoder(2).fit_transform(f_all)\n",
        "plt.scatter(*X_em.T, c=y_all)"
      ]
    },
    {
      "cell_type": "code",
      "execution_count": 13,
      "metadata": {
        "id": "jI0ehQkLqcIL"
      },
      "outputs": [],
      "source": [
        "#Results for Grid Search\n",
        "\n",
        "res = {}\n"
      ]
    },
    {
      "cell_type": "code",
      "execution_count": 14,
      "metadata": {
        "colab": {
          "base_uri": "https://localhost:8080/"
        },
        "id": "BmsAbAaxF80L",
        "outputId": "b84b9c45-0861-453a-f31c-bc28deb4d519"
      },
      "outputs": [
        {
          "output_type": "stream",
          "name": "stderr",
          "text": [
            "100%|██████████| 100/100 [00:22<00:00,  4.37it/s]\n"
          ]
        }
      ],
      "source": [
        "#get the options for the reduced dataset\n",
        "f_reduced = {}\n",
        "f_reduced['None'] = f_all\n",
        "f_reduced['SVD'] = TruncatedSVD(n_components=50).fit_transform(f_all)\n",
        "f_reduced['UMAP'] = umap.UMAP(n_components=50).fit_transform(f_all)\n",
        "f_reduced['Autoencoder'] = Autoencoder(50).fit_transform(f_all)"
      ]
    },
    {
      "cell_type": "code",
      "execution_count": 15,
      "metadata": {
        "id": "E-D6ZrFUJjlu"
      },
      "outputs": [],
      "source": [
        "clusteringOptions = {\n",
        "    'K-Means': KMeans(n_clusters=5),\n",
        "    'Agglomerative Clustering': AgglomerativeClustering(n_clusters=5),\n",
        "    'HDBSCAN': None,\n",
        "}"
      ]
    },
    {
      "cell_type": "code",
      "execution_count": 16,
      "metadata": {
        "colab": {
          "base_uri": "https://localhost:8080/"
        },
        "id": "XV4Ki9BOINrv",
        "outputId": "30c4774c-7a21-481a-d27e-442f38f45b5a"
      },
      "outputs": [
        {
          "output_type": "stream",
          "name": "stdout",
          "text": [
            "None and K-Means\n",
            "SVD and K-Means\n",
            "UMAP and K-Means\n",
            "Autoencoder and K-Means\n",
            "None and Agglomerative Clustering\n",
            "SVD and Agglomerative Clustering\n",
            "UMAP and Agglomerative Clustering\n",
            "Autoencoder and Agglomerative Clustering\n"
          ]
        }
      ],
      "source": [
        "#get the results for the not HDBSCAN options\n",
        "for key in clusteringOptions.keys():\n",
        "    if key != 'HDBSCAN':\n",
        "      for key2 in f_reduced.keys():\n",
        "        newKey = key2 + ' and ' + key\n",
        "        print(newKey)\n",
        "        res[newKey] = clusteringOptions[key].fit_predict(f_reduced[key2])"
      ]
    },
    {
      "cell_type": "code",
      "execution_count": 17,
      "metadata": {
        "colab": {
          "base_uri": "https://localhost:8080/"
        },
        "id": "tY1uOBMkKHXM",
        "outputId": "bd77bb10-0e11-42ee-bfed-2c4d68c30812"
      },
      "outputs": [
        {
          "output_type": "stream",
          "name": "stdout",
          "text": [
            "None and HDBSCAN with min cluster size 5 and min samples 5\n",
            "None and HDBSCAN with min cluster size 5 and min samples 50\n",
            "None and HDBSCAN with min cluster size 5 and min samples 500\n",
            "None and HDBSCAN with min cluster size 50 and min samples 5\n",
            "None and HDBSCAN with min cluster size 50 and min samples 50\n",
            "None and HDBSCAN with min cluster size 50 and min samples 500\n",
            "None and HDBSCAN with min cluster size 500 and min samples 5\n",
            "None and HDBSCAN with min cluster size 500 and min samples 50\n",
            "None and HDBSCAN with min cluster size 500 and min samples 500\n",
            "SVD and HDBSCAN with min cluster size 5 and min samples 5\n",
            "SVD and HDBSCAN with min cluster size 5 and min samples 50\n",
            "SVD and HDBSCAN with min cluster size 5 and min samples 500\n",
            "SVD and HDBSCAN with min cluster size 50 and min samples 5\n",
            "SVD and HDBSCAN with min cluster size 50 and min samples 50\n",
            "SVD and HDBSCAN with min cluster size 50 and min samples 500\n",
            "SVD and HDBSCAN with min cluster size 500 and min samples 5\n",
            "SVD and HDBSCAN with min cluster size 500 and min samples 50\n",
            "SVD and HDBSCAN with min cluster size 500 and min samples 500\n",
            "UMAP and HDBSCAN with min cluster size 5 and min samples 5\n",
            "UMAP and HDBSCAN with min cluster size 5 and min samples 50\n",
            "UMAP and HDBSCAN with min cluster size 5 and min samples 500\n",
            "UMAP and HDBSCAN with min cluster size 50 and min samples 5\n",
            "UMAP and HDBSCAN with min cluster size 50 and min samples 50\n",
            "UMAP and HDBSCAN with min cluster size 50 and min samples 500\n",
            "UMAP and HDBSCAN with min cluster size 500 and min samples 5\n",
            "UMAP and HDBSCAN with min cluster size 500 and min samples 50\n",
            "UMAP and HDBSCAN with min cluster size 500 and min samples 500\n",
            "Autoencoder and HDBSCAN with min cluster size 5 and min samples 5\n",
            "Autoencoder and HDBSCAN with min cluster size 5 and min samples 50\n",
            "Autoencoder and HDBSCAN with min cluster size 5 and min samples 500\n",
            "Autoencoder and HDBSCAN with min cluster size 50 and min samples 5\n",
            "Autoencoder and HDBSCAN with min cluster size 50 and min samples 50\n",
            "Autoencoder and HDBSCAN with min cluster size 50 and min samples 500\n",
            "Autoencoder and HDBSCAN with min cluster size 500 and min samples 5\n",
            "Autoencoder and HDBSCAN with min cluster size 500 and min samples 50\n",
            "Autoencoder and HDBSCAN with min cluster size 500 and min samples 500\n"
          ]
        }
      ],
      "source": [
        "#get the results of the minimal grid search for HDBSCAN\n",
        "min_cluster_sizes = [ 5, 50, 500 ]\n",
        "min_samples = [ 5, 50, 500 ]\n",
        "\n",
        "for key2 in f_reduced.keys():\n",
        "  for clusterSize in min_cluster_sizes:\n",
        "    for minSample in min_samples:\n",
        "      newKey = key2 + ' and HDBSCAN with min cluster size ' + str(clusterSize) + ' and min samples ' + str(minSample)\n",
        "      print(newKey)\n",
        "      res[newKey] = hdbscan.HDBSCAN(min_cluster_size=clusterSize, min_samples=minSample).fit_predict(f_reduced[key2])\n",
        "\n"
      ]
    },
    {
      "cell_type": "code",
      "execution_count": 18,
      "metadata": {
        "id": "H5CrGhn0qcLC"
      },
      "outputs": [],
      "source": [
        "scores = {}\n",
        "\n",
        "for key in res.keys():\n",
        "  scores[key] = adjusted_rand_score( y_all, res[key])"
      ]
    },
    {
      "cell_type": "code",
      "execution_count": 19,
      "metadata": {
        "colab": {
          "base_uri": "https://localhost:8080/"
        },
        "id": "tdHYhw9hqcNm",
        "outputId": "f83240a9-ae22-49d4-e236-54048912d03d"
      },
      "outputs": [
        {
          "output_type": "stream",
          "name": "stdout",
          "text": [
            "{'None and K-Means': 0.18967319657025597, 'SVD and K-Means': 0.19593913524301027, 'UMAP and K-Means': 0.42012366542030477, 'Autoencoder and K-Means': 0.20548713369005908, 'None and Agglomerative Clustering': 0.18855278251971858, 'SVD and Agglomerative Clustering': 0.21615545991943408, 'UMAP and Agglomerative Clustering': 0.3700057451490448, 'Autoencoder and Agglomerative Clustering': 0.25684572572482056, 'None and HDBSCAN with min cluster size 5 and min samples 5': 0.006705947729476718, 'None and HDBSCAN with min cluster size 5 and min samples 50': 0.0, 'None and HDBSCAN with min cluster size 5 and min samples 500': 0.0, 'None and HDBSCAN with min cluster size 50 and min samples 5': 0.0, 'None and HDBSCAN with min cluster size 50 and min samples 50': 0.0, 'None and HDBSCAN with min cluster size 50 and min samples 500': 0.0, 'None and HDBSCAN with min cluster size 500 and min samples 5': 0.0, 'None and HDBSCAN with min cluster size 500 and min samples 50': 0.0, 'None and HDBSCAN with min cluster size 500 and min samples 500': 0.0, 'SVD and HDBSCAN with min cluster size 5 and min samples 5': 0.005786695827414703, 'SVD and HDBSCAN with min cluster size 5 and min samples 50': 0.0, 'SVD and HDBSCAN with min cluster size 5 and min samples 500': 0.0, 'SVD and HDBSCAN with min cluster size 50 and min samples 5': 0.0, 'SVD and HDBSCAN with min cluster size 50 and min samples 50': 0.0, 'SVD and HDBSCAN with min cluster size 50 and min samples 500': 0.0, 'SVD and HDBSCAN with min cluster size 500 and min samples 5': 0.0, 'SVD and HDBSCAN with min cluster size 500 and min samples 50': 0.0, 'SVD and HDBSCAN with min cluster size 500 and min samples 500': 0.0, 'UMAP and HDBSCAN with min cluster size 5 and min samples 5': 0.252324673677063, 'UMAP and HDBSCAN with min cluster size 5 and min samples 50': 0.22777899774535743, 'UMAP and HDBSCAN with min cluster size 5 and min samples 500': 0.09432485481809882, 'UMAP and HDBSCAN with min cluster size 50 and min samples 5': 0.279309901456811, 'UMAP and HDBSCAN with min cluster size 50 and min samples 50': 0.23601556293263562, 'UMAP and HDBSCAN with min cluster size 50 and min samples 500': 0.12479684675291036, 'UMAP and HDBSCAN with min cluster size 500 and min samples 5': 0.2840727935592511, 'UMAP and HDBSCAN with min cluster size 500 and min samples 50': 0.25655077252396474, 'UMAP and HDBSCAN with min cluster size 500 and min samples 500': 0.0, 'Autoencoder and HDBSCAN with min cluster size 5 and min samples 5': 0.016691436547011627, 'Autoencoder and HDBSCAN with min cluster size 5 and min samples 50': 0.0, 'Autoencoder and HDBSCAN with min cluster size 5 and min samples 500': 0.0, 'Autoencoder and HDBSCAN with min cluster size 50 and min samples 5': 0.0, 'Autoencoder and HDBSCAN with min cluster size 50 and min samples 50': 0.0, 'Autoencoder and HDBSCAN with min cluster size 50 and min samples 500': 0.0, 'Autoencoder and HDBSCAN with min cluster size 500 and min samples 5': 0.0, 'Autoencoder and HDBSCAN with min cluster size 500 and min samples 50': 0.0, 'Autoencoder and HDBSCAN with min cluster size 500 and min samples 500': 0.0}\n"
          ]
        }
      ],
      "source": [
        "print(scores)"
      ]
    },
    {
      "cell_type": "code",
      "execution_count": 20,
      "metadata": {
        "colab": {
          "base_uri": "https://localhost:8080/"
        },
        "id": "d2h_DGYvQYwJ",
        "outputId": "f8859655-4fc7-4cc7-afe8-c60d3e3f85e1"
      },
      "outputs": [
        {
          "output_type": "stream",
          "name": "stdout",
          "text": [
            "0.42012366542030477 UMAP and K-Means\n",
            "0.3700057451490448 UMAP and Agglomerative Clustering\n",
            "0.2840727935592511 UMAP and HDBSCAN with min cluster size 500 and min samples 5\n",
            "0.279309901456811 UMAP and HDBSCAN with min cluster size 50 and min samples 5\n",
            "0.25684572572482056 Autoencoder and Agglomerative Clustering\n",
            "0.25655077252396474 UMAP and HDBSCAN with min cluster size 500 and min samples 50\n",
            "0.252324673677063 UMAP and HDBSCAN with min cluster size 5 and min samples 5\n",
            "0.23601556293263562 UMAP and HDBSCAN with min cluster size 50 and min samples 50\n",
            "0.22777899774535743 UMAP and HDBSCAN with min cluster size 5 and min samples 50\n",
            "0.21615545991943408 SVD and Agglomerative Clustering\n",
            "0.20548713369005908 Autoencoder and K-Means\n",
            "0.19593913524301027 SVD and K-Means\n",
            "0.18967319657025597 None and K-Means\n",
            "0.18855278251971858 None and Agglomerative Clustering\n",
            "0.12479684675291036 UMAP and HDBSCAN with min cluster size 50 and min samples 500\n",
            "0.09432485481809882 UMAP and HDBSCAN with min cluster size 5 and min samples 500\n",
            "0.016691436547011627 Autoencoder and HDBSCAN with min cluster size 5 and min samples 5\n",
            "0.006705947729476718 None and HDBSCAN with min cluster size 5 and min samples 5\n",
            "0.005786695827414703 SVD and HDBSCAN with min cluster size 5 and min samples 5\n",
            "0.0 UMAP and HDBSCAN with min cluster size 500 and min samples 500\n",
            "0.0 SVD and HDBSCAN with min cluster size 500 and min samples 500\n",
            "0.0 SVD and HDBSCAN with min cluster size 500 and min samples 50\n",
            "0.0 SVD and HDBSCAN with min cluster size 500 and min samples 5\n",
            "0.0 SVD and HDBSCAN with min cluster size 50 and min samples 500\n",
            "0.0 SVD and HDBSCAN with min cluster size 50 and min samples 50\n",
            "0.0 SVD and HDBSCAN with min cluster size 50 and min samples 5\n",
            "0.0 SVD and HDBSCAN with min cluster size 5 and min samples 500\n",
            "0.0 SVD and HDBSCAN with min cluster size 5 and min samples 50\n",
            "0.0 None and HDBSCAN with min cluster size 500 and min samples 500\n",
            "0.0 None and HDBSCAN with min cluster size 500 and min samples 50\n",
            "0.0 None and HDBSCAN with min cluster size 500 and min samples 5\n",
            "0.0 None and HDBSCAN with min cluster size 50 and min samples 500\n",
            "0.0 None and HDBSCAN with min cluster size 50 and min samples 50\n",
            "0.0 None and HDBSCAN with min cluster size 50 and min samples 5\n",
            "0.0 None and HDBSCAN with min cluster size 5 and min samples 500\n",
            "0.0 None and HDBSCAN with min cluster size 5 and min samples 50\n",
            "0.0 Autoencoder and HDBSCAN with min cluster size 500 and min samples 500\n",
            "0.0 Autoencoder and HDBSCAN with min cluster size 500 and min samples 50\n",
            "0.0 Autoencoder and HDBSCAN with min cluster size 500 and min samples 5\n",
            "0.0 Autoencoder and HDBSCAN with min cluster size 50 and min samples 500\n",
            "0.0 Autoencoder and HDBSCAN with min cluster size 50 and min samples 50\n",
            "0.0 Autoencoder and HDBSCAN with min cluster size 50 and min samples 5\n",
            "0.0 Autoencoder and HDBSCAN with min cluster size 5 and min samples 500\n",
            "0.0 Autoencoder and HDBSCAN with min cluster size 5 and min samples 50\n"
          ]
        }
      ],
      "source": [
        "#need to know the top of this for Q25\n",
        "for k, v in sorted( ((v,k) for k,v in scores.items()), reverse=True):\n",
        "  print(k, v)"
      ]
    },
    {
      "cell_type": "code",
      "execution_count": null,
      "metadata": {
        "id": "MSA8L-QvAF-h"
      },
      "outputs": [],
      "source": []
    }
  ],
  "metadata": {
    "accelerator": "GPU",
    "colab": {
      "provenance": []
    },
    "gpuClass": "standard",
    "kernelspec": {
      "display_name": "Python [conda env:ECE219_1]",
      "language": "python",
      "name": "conda-env-ECE219_1-py"
    },
    "language_info": {
      "codemirror_mode": {
        "name": "ipython",
        "version": 3
      },
      "file_extension": ".py",
      "mimetype": "text/x-python",
      "name": "python",
      "nbconvert_exporter": "python",
      "pygments_lexer": "ipython3",
      "version": "3.10.9"
    },
    "widgets": {
      "application/vnd.jupyter.widget-state+json": {
        "3579f81984604509a6c94906321f2a10": {
          "model_module": "@jupyter-widgets/controls",
          "model_name": "HBoxModel",
          "model_module_version": "1.5.0",
          "state": {
            "_dom_classes": [],
            "_model_module": "@jupyter-widgets/controls",
            "_model_module_version": "1.5.0",
            "_model_name": "HBoxModel",
            "_view_count": null,
            "_view_module": "@jupyter-widgets/controls",
            "_view_module_version": "1.5.0",
            "_view_name": "HBoxView",
            "box_style": "",
            "children": [
              "IPY_MODEL_4cebfc7b0b1d4066b61a91f84a95de3e",
              "IPY_MODEL_38a1f636cba8405f9da3887b0b18c189",
              "IPY_MODEL_af6cf13f1dec4edb93fedb0066451fb8"
            ],
            "layout": "IPY_MODEL_2ad74e5ab37a410fbf1893f308900aed"
          }
        },
        "4cebfc7b0b1d4066b61a91f84a95de3e": {
          "model_module": "@jupyter-widgets/controls",
          "model_name": "HTMLModel",
          "model_module_version": "1.5.0",
          "state": {
            "_dom_classes": [],
            "_model_module": "@jupyter-widgets/controls",
            "_model_module_version": "1.5.0",
            "_model_name": "HTMLModel",
            "_view_count": null,
            "_view_module": "@jupyter-widgets/controls",
            "_view_module_version": "1.5.0",
            "_view_name": "HTMLView",
            "description": "",
            "description_tooltip": null,
            "layout": "IPY_MODEL_1263cb30df2d48a6ae8225c1881b8601",
            "placeholder": "​",
            "style": "IPY_MODEL_d739ea3ba11f470c916d2286a5b58baa",
            "value": "100%"
          }
        },
        "38a1f636cba8405f9da3887b0b18c189": {
          "model_module": "@jupyter-widgets/controls",
          "model_name": "FloatProgressModel",
          "model_module_version": "1.5.0",
          "state": {
            "_dom_classes": [],
            "_model_module": "@jupyter-widgets/controls",
            "_model_module_version": "1.5.0",
            "_model_name": "FloatProgressModel",
            "_view_count": null,
            "_view_module": "@jupyter-widgets/controls",
            "_view_module_version": "1.5.0",
            "_view_name": "ProgressView",
            "bar_style": "success",
            "description": "",
            "description_tooltip": null,
            "layout": "IPY_MODEL_91b51aba0266431eadd57e60c3b5f51b",
            "max": 553433881,
            "min": 0,
            "orientation": "horizontal",
            "style": "IPY_MODEL_fe0f2b88435949ce8646d46496d227f3",
            "value": 553433881
          }
        },
        "af6cf13f1dec4edb93fedb0066451fb8": {
          "model_module": "@jupyter-widgets/controls",
          "model_name": "HTMLModel",
          "model_module_version": "1.5.0",
          "state": {
            "_dom_classes": [],
            "_model_module": "@jupyter-widgets/controls",
            "_model_module_version": "1.5.0",
            "_model_name": "HTMLModel",
            "_view_count": null,
            "_view_module": "@jupyter-widgets/controls",
            "_view_module_version": "1.5.0",
            "_view_name": "HTMLView",
            "description": "",
            "description_tooltip": null,
            "layout": "IPY_MODEL_3292dc09d59649ba8e1c497847d0940c",
            "placeholder": "​",
            "style": "IPY_MODEL_3a5c032baf4147b9a694c2781fe0c6f5",
            "value": " 528M/528M [00:04&lt;00:00, 154MB/s]"
          }
        },
        "2ad74e5ab37a410fbf1893f308900aed": {
          "model_module": "@jupyter-widgets/base",
          "model_name": "LayoutModel",
          "model_module_version": "1.2.0",
          "state": {
            "_model_module": "@jupyter-widgets/base",
            "_model_module_version": "1.2.0",
            "_model_name": "LayoutModel",
            "_view_count": null,
            "_view_module": "@jupyter-widgets/base",
            "_view_module_version": "1.2.0",
            "_view_name": "LayoutView",
            "align_content": null,
            "align_items": null,
            "align_self": null,
            "border": null,
            "bottom": null,
            "display": null,
            "flex": null,
            "flex_flow": null,
            "grid_area": null,
            "grid_auto_columns": null,
            "grid_auto_flow": null,
            "grid_auto_rows": null,
            "grid_column": null,
            "grid_gap": null,
            "grid_row": null,
            "grid_template_areas": null,
            "grid_template_columns": null,
            "grid_template_rows": null,
            "height": null,
            "justify_content": null,
            "justify_items": null,
            "left": null,
            "margin": null,
            "max_height": null,
            "max_width": null,
            "min_height": null,
            "min_width": null,
            "object_fit": null,
            "object_position": null,
            "order": null,
            "overflow": null,
            "overflow_x": null,
            "overflow_y": null,
            "padding": null,
            "right": null,
            "top": null,
            "visibility": null,
            "width": null
          }
        },
        "1263cb30df2d48a6ae8225c1881b8601": {
          "model_module": "@jupyter-widgets/base",
          "model_name": "LayoutModel",
          "model_module_version": "1.2.0",
          "state": {
            "_model_module": "@jupyter-widgets/base",
            "_model_module_version": "1.2.0",
            "_model_name": "LayoutModel",
            "_view_count": null,
            "_view_module": "@jupyter-widgets/base",
            "_view_module_version": "1.2.0",
            "_view_name": "LayoutView",
            "align_content": null,
            "align_items": null,
            "align_self": null,
            "border": null,
            "bottom": null,
            "display": null,
            "flex": null,
            "flex_flow": null,
            "grid_area": null,
            "grid_auto_columns": null,
            "grid_auto_flow": null,
            "grid_auto_rows": null,
            "grid_column": null,
            "grid_gap": null,
            "grid_row": null,
            "grid_template_areas": null,
            "grid_template_columns": null,
            "grid_template_rows": null,
            "height": null,
            "justify_content": null,
            "justify_items": null,
            "left": null,
            "margin": null,
            "max_height": null,
            "max_width": null,
            "min_height": null,
            "min_width": null,
            "object_fit": null,
            "object_position": null,
            "order": null,
            "overflow": null,
            "overflow_x": null,
            "overflow_y": null,
            "padding": null,
            "right": null,
            "top": null,
            "visibility": null,
            "width": null
          }
        },
        "d739ea3ba11f470c916d2286a5b58baa": {
          "model_module": "@jupyter-widgets/controls",
          "model_name": "DescriptionStyleModel",
          "model_module_version": "1.5.0",
          "state": {
            "_model_module": "@jupyter-widgets/controls",
            "_model_module_version": "1.5.0",
            "_model_name": "DescriptionStyleModel",
            "_view_count": null,
            "_view_module": "@jupyter-widgets/base",
            "_view_module_version": "1.2.0",
            "_view_name": "StyleView",
            "description_width": ""
          }
        },
        "91b51aba0266431eadd57e60c3b5f51b": {
          "model_module": "@jupyter-widgets/base",
          "model_name": "LayoutModel",
          "model_module_version": "1.2.0",
          "state": {
            "_model_module": "@jupyter-widgets/base",
            "_model_module_version": "1.2.0",
            "_model_name": "LayoutModel",
            "_view_count": null,
            "_view_module": "@jupyter-widgets/base",
            "_view_module_version": "1.2.0",
            "_view_name": "LayoutView",
            "align_content": null,
            "align_items": null,
            "align_self": null,
            "border": null,
            "bottom": null,
            "display": null,
            "flex": null,
            "flex_flow": null,
            "grid_area": null,
            "grid_auto_columns": null,
            "grid_auto_flow": null,
            "grid_auto_rows": null,
            "grid_column": null,
            "grid_gap": null,
            "grid_row": null,
            "grid_template_areas": null,
            "grid_template_columns": null,
            "grid_template_rows": null,
            "height": null,
            "justify_content": null,
            "justify_items": null,
            "left": null,
            "margin": null,
            "max_height": null,
            "max_width": null,
            "min_height": null,
            "min_width": null,
            "object_fit": null,
            "object_position": null,
            "order": null,
            "overflow": null,
            "overflow_x": null,
            "overflow_y": null,
            "padding": null,
            "right": null,
            "top": null,
            "visibility": null,
            "width": null
          }
        },
        "fe0f2b88435949ce8646d46496d227f3": {
          "model_module": "@jupyter-widgets/controls",
          "model_name": "ProgressStyleModel",
          "model_module_version": "1.5.0",
          "state": {
            "_model_module": "@jupyter-widgets/controls",
            "_model_module_version": "1.5.0",
            "_model_name": "ProgressStyleModel",
            "_view_count": null,
            "_view_module": "@jupyter-widgets/base",
            "_view_module_version": "1.2.0",
            "_view_name": "StyleView",
            "bar_color": null,
            "description_width": ""
          }
        },
        "3292dc09d59649ba8e1c497847d0940c": {
          "model_module": "@jupyter-widgets/base",
          "model_name": "LayoutModel",
          "model_module_version": "1.2.0",
          "state": {
            "_model_module": "@jupyter-widgets/base",
            "_model_module_version": "1.2.0",
            "_model_name": "LayoutModel",
            "_view_count": null,
            "_view_module": "@jupyter-widgets/base",
            "_view_module_version": "1.2.0",
            "_view_name": "LayoutView",
            "align_content": null,
            "align_items": null,
            "align_self": null,
            "border": null,
            "bottom": null,
            "display": null,
            "flex": null,
            "flex_flow": null,
            "grid_area": null,
            "grid_auto_columns": null,
            "grid_auto_flow": null,
            "grid_auto_rows": null,
            "grid_column": null,
            "grid_gap": null,
            "grid_row": null,
            "grid_template_areas": null,
            "grid_template_columns": null,
            "grid_template_rows": null,
            "height": null,
            "justify_content": null,
            "justify_items": null,
            "left": null,
            "margin": null,
            "max_height": null,
            "max_width": null,
            "min_height": null,
            "min_width": null,
            "object_fit": null,
            "object_position": null,
            "order": null,
            "overflow": null,
            "overflow_x": null,
            "overflow_y": null,
            "padding": null,
            "right": null,
            "top": null,
            "visibility": null,
            "width": null
          }
        },
        "3a5c032baf4147b9a694c2781fe0c6f5": {
          "model_module": "@jupyter-widgets/controls",
          "model_name": "DescriptionStyleModel",
          "model_module_version": "1.5.0",
          "state": {
            "_model_module": "@jupyter-widgets/controls",
            "_model_module_version": "1.5.0",
            "_model_name": "DescriptionStyleModel",
            "_view_count": null,
            "_view_module": "@jupyter-widgets/base",
            "_view_module_version": "1.2.0",
            "_view_name": "StyleView",
            "description_width": ""
          }
        }
      }
    }
  },
  "nbformat": 4,
  "nbformat_minor": 0
}